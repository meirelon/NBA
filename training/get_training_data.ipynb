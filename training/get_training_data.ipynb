{
 "cells": [
  {
   "cell_type": "code",
   "execution_count": 8,
   "metadata": {
    "collapsed": true
   },
   "outputs": [],
   "source": [
    "import pandas as pd\n",
    "import numpy as np\n",
    "\n",
    "from sklearn.linear_model import LinearRegression\n",
    "\n",
    "from training_utils import generate_date_list"
   ]
  },
  {
   "cell_type": "code",
   "execution_count": 22,
   "metadata": {
    "collapsed": true
   },
   "outputs": [],
   "source": [
    "project_id = 'scarlet-labs'\n",
    "query = pd.read_pickle(path=\"training_query.pkl\")\n",
    "date_array = generate_date_list(date1='2017-11-30', date2='2018-04-11')"
   ]
  },
  {
   "cell_type": "code",
   "execution_count": 18,
   "metadata": {
    "collapsed": false
   },
   "outputs": [],
   "source": [
    "training_list = [pd.read_gbq(query=query.format(dt=d), project_id=project_id, dialect=\"standard\", verbose=False) for d in date_array]"
   ]
  },
  {
   "cell_type": "code",
   "execution_count": 32,
   "metadata": {
    "collapsed": true
   },
   "outputs": [],
   "source": [
    "training_df = pd.concat(training_list, axis=0)"
   ]
  },
  {
   "cell_type": "code",
   "execution_count": 33,
   "metadata": {
    "collapsed": false
   },
   "outputs": [],
   "source": [
    "training_df = training_df[training_df['date'] > '2017-11-30']"
   ]
  },
  {
   "cell_type": "code",
   "execution_count": 35,
   "metadata": {
    "collapsed": false
   },
   "outputs": [
    {
     "data": {
      "text/html": [
       "<div>\n",
       "<table border=\"1\" class=\"dataframe\">\n",
       "  <thead>\n",
       "    <tr style=\"text-align: right;\">\n",
       "      <th></th>\n",
       "      <th>opp</th>\n",
       "      <th>pos</th>\n",
       "      <th>bbrefID</th>\n",
       "      <th>date</th>\n",
       "      <th>player</th>\n",
       "      <th>tm</th>\n",
       "      <th>venue</th>\n",
       "      <th>dk</th>\n",
       "      <th>dk_30d</th>\n",
       "      <th>secs_played_30d</th>\n",
       "      <th>...</th>\n",
       "      <th>opp_orbpct_7d</th>\n",
       "      <th>opp_drbpct_7d</th>\n",
       "      <th>opp_astpct_7d</th>\n",
       "      <th>opp_stlpct_7d</th>\n",
       "      <th>opp_blkpct_7d</th>\n",
       "      <th>opp_tovpct_7d</th>\n",
       "      <th>opp_usgpct_7d</th>\n",
       "      <th>opp_ortg_7d</th>\n",
       "      <th>opp_drtg_7d</th>\n",
       "      <th>opp_gmsc_7d</th>\n",
       "    </tr>\n",
       "  </thead>\n",
       "  <tbody>\n",
       "    <tr>\n",
       "      <th>0</th>\n",
       "      <td>CHI</td>\n",
       "      <td>PG</td>\n",
       "      <td>foxde01</td>\n",
       "      <td>2017-12-01</td>\n",
       "      <td>De'Aaron Fox</td>\n",
       "      <td>SAC</td>\n",
       "      <td>away</td>\n",
       "      <td>22.25</td>\n",
       "      <td>16.142857</td>\n",
       "      <td>1558.285714</td>\n",
       "      <td>...</td>\n",
       "      <td>1.485714</td>\n",
       "      <td>11.142857</td>\n",
       "      <td>21.757143</td>\n",
       "      <td>1.200000</td>\n",
       "      <td>0.814286</td>\n",
       "      <td>17.385714</td>\n",
       "      <td>21.414286</td>\n",
       "      <td>104.428571</td>\n",
       "      <td>101.428571</td>\n",
       "      <td>10.071429</td>\n",
       "    </tr>\n",
       "    <tr>\n",
       "      <th>1</th>\n",
       "      <td>CHI</td>\n",
       "      <td>PG</td>\n",
       "      <td>masonfr01</td>\n",
       "      <td>2017-12-01</td>\n",
       "      <td>Frank Mason</td>\n",
       "      <td>SAC</td>\n",
       "      <td>away</td>\n",
       "      <td>9.25</td>\n",
       "      <td>12.590909</td>\n",
       "      <td>1073.545455</td>\n",
       "      <td>...</td>\n",
       "      <td>1.485714</td>\n",
       "      <td>11.142857</td>\n",
       "      <td>21.757143</td>\n",
       "      <td>1.200000</td>\n",
       "      <td>0.814286</td>\n",
       "      <td>17.385714</td>\n",
       "      <td>21.414286</td>\n",
       "      <td>104.428571</td>\n",
       "      <td>101.428571</td>\n",
       "      <td>10.071429</td>\n",
       "    </tr>\n",
       "    <tr>\n",
       "      <th>2</th>\n",
       "      <td>CHI</td>\n",
       "      <td>SF</td>\n",
       "      <td>cartevi01</td>\n",
       "      <td>2017-12-01</td>\n",
       "      <td>Vince Carter</td>\n",
       "      <td>SAC</td>\n",
       "      <td>away</td>\n",
       "      <td>6.50</td>\n",
       "      <td>7.083333</td>\n",
       "      <td>784.333333</td>\n",
       "      <td>...</td>\n",
       "      <td>1.783333</td>\n",
       "      <td>8.983333</td>\n",
       "      <td>10.166667</td>\n",
       "      <td>1.616667</td>\n",
       "      <td>1.450000</td>\n",
       "      <td>10.283333</td>\n",
       "      <td>16.500000</td>\n",
       "      <td>80.666667</td>\n",
       "      <td>101.833333</td>\n",
       "      <td>5.083333</td>\n",
       "    </tr>\n",
       "    <tr>\n",
       "      <th>3</th>\n",
       "      <td>CHI</td>\n",
       "      <td>SG</td>\n",
       "      <td>hieldbu01</td>\n",
       "      <td>2017-12-01</td>\n",
       "      <td>Buddy Hield</td>\n",
       "      <td>SAC</td>\n",
       "      <td>away</td>\n",
       "      <td>2.50</td>\n",
       "      <td>16.875000</td>\n",
       "      <td>1318.416667</td>\n",
       "      <td>...</td>\n",
       "      <td>0.000000</td>\n",
       "      <td>12.688889</td>\n",
       "      <td>11.900000</td>\n",
       "      <td>1.444444</td>\n",
       "      <td>1.088889</td>\n",
       "      <td>9.722222</td>\n",
       "      <td>26.088889</td>\n",
       "      <td>125.555556</td>\n",
       "      <td>102.333333</td>\n",
       "      <td>15.166667</td>\n",
       "    </tr>\n",
       "    <tr>\n",
       "      <th>4</th>\n",
       "      <td>CHI</td>\n",
       "      <td>SG</td>\n",
       "      <td>bogdabo01</td>\n",
       "      <td>2017-12-01</td>\n",
       "      <td>Bogdan Bogdanovic</td>\n",
       "      <td>SAC</td>\n",
       "      <td>away</td>\n",
       "      <td>19.75</td>\n",
       "      <td>12.428571</td>\n",
       "      <td>1363.142857</td>\n",
       "      <td>...</td>\n",
       "      <td>0.000000</td>\n",
       "      <td>12.688889</td>\n",
       "      <td>11.900000</td>\n",
       "      <td>1.444444</td>\n",
       "      <td>1.088889</td>\n",
       "      <td>9.722222</td>\n",
       "      <td>26.088889</td>\n",
       "      <td>125.555556</td>\n",
       "      <td>102.333333</td>\n",
       "      <td>15.166667</td>\n",
       "    </tr>\n",
       "  </tbody>\n",
       "</table>\n",
       "<p>5 rows × 66 columns</p>\n",
       "</div>"
      ],
      "text/plain": [
       "   opp pos    bbrefID        date             player   tm venue     dk  \\\n",
       "0  CHI  PG    foxde01  2017-12-01       De'Aaron Fox  SAC  away  22.25   \n",
       "1  CHI  PG  masonfr01  2017-12-01        Frank Mason  SAC  away   9.25   \n",
       "2  CHI  SF  cartevi01  2017-12-01       Vince Carter  SAC  away   6.50   \n",
       "3  CHI  SG  hieldbu01  2017-12-01        Buddy Hield  SAC  away   2.50   \n",
       "4  CHI  SG  bogdabo01  2017-12-01  Bogdan Bogdanovic  SAC  away  19.75   \n",
       "\n",
       "      dk_30d  secs_played_30d     ...       opp_orbpct_7d  opp_drbpct_7d  \\\n",
       "0  16.142857      1558.285714     ...            1.485714      11.142857   \n",
       "1  12.590909      1073.545455     ...            1.485714      11.142857   \n",
       "2   7.083333       784.333333     ...            1.783333       8.983333   \n",
       "3  16.875000      1318.416667     ...            0.000000      12.688889   \n",
       "4  12.428571      1363.142857     ...            0.000000      12.688889   \n",
       "\n",
       "   opp_astpct_7d  opp_stlpct_7d  opp_blkpct_7d  opp_tovpct_7d  opp_usgpct_7d  \\\n",
       "0      21.757143       1.200000       0.814286      17.385714      21.414286   \n",
       "1      21.757143       1.200000       0.814286      17.385714      21.414286   \n",
       "2      10.166667       1.616667       1.450000      10.283333      16.500000   \n",
       "3      11.900000       1.444444       1.088889       9.722222      26.088889   \n",
       "4      11.900000       1.444444       1.088889       9.722222      26.088889   \n",
       "\n",
       "   opp_ortg_7d  opp_drtg_7d  opp_gmsc_7d  \n",
       "0   104.428571   101.428571    10.071429  \n",
       "1   104.428571   101.428571    10.071429  \n",
       "2    80.666667   101.833333     5.083333  \n",
       "3   125.555556   102.333333    15.166667  \n",
       "4   125.555556   102.333333    15.166667  \n",
       "\n",
       "[5 rows x 66 columns]"
      ]
     },
     "execution_count": 35,
     "metadata": {},
     "output_type": "execute_result"
    }
   ],
   "source": [
    "training_df.head()"
   ]
  },
  {
   "cell_type": "code",
   "execution_count": 38,
   "metadata": {
    "collapsed": false
   },
   "outputs": [],
   "source": [
    "training_df.to_gbq(project_id=\"scarlet-labs\", destination_table=\"basketball.training_2018\", \n",
    "                   chunksize=5000, verbose=False, if_exists=\"replace\")"
   ]
  },
  {
   "cell_type": "code",
   "execution_count": null,
   "metadata": {
    "collapsed": true
   },
   "outputs": [],
   "source": []
  }
 ],
 "metadata": {
  "kernelspec": {
   "display_name": "Python 3",
   "language": "python",
   "name": "python3"
  },
  "language_info": {
   "codemirror_mode": {
    "name": "ipython",
    "version": 3
   },
   "file_extension": ".py",
   "mimetype": "text/x-python",
   "name": "python",
   "nbconvert_exporter": "python",
   "pygments_lexer": "ipython3",
   "version": "3.6.0"
  }
 },
 "nbformat": 4,
 "nbformat_minor": 2
}
