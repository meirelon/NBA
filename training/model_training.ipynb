{
 "cells": [
  {
   "cell_type": "code",
   "execution_count": 58,
   "metadata": {
    "collapsed": true
   },
   "outputs": [],
   "source": [
    "import pandas as pd\n",
    "import numpy as np\n",
    "\n",
    "#model selection\n",
    "from sklearn.model_selection import train_test_split\n",
    "\n",
    "#models\n",
    "from sklearn.linear_model import LinearRegression\n",
    "from sklearn.ensemble import RandomForestRegressor\n",
    "\n",
    "#model evaluation\n",
    "from sklearn.metrics import mean_squared_error\n",
    "from math import sqrt\n",
    "\n",
    "#plotting\n",
    "import matplotlib.pyplot as plt\n",
    "import seaborn as sns"
   ]
  },
  {
   "cell_type": "code",
   "execution_count": 2,
   "metadata": {
    "collapsed": false
   },
   "outputs": [
    {
     "name": "stdout",
     "output_type": "stream",
     "text": [
      "Requesting query... ok.\n",
      "Query running...\n",
      "Query done.\n",
      "Processed: 0.0 b\n",
      "\n",
      "Retrieving results...\n",
      "  Got page: 2; 58% done. Elapsed 9.51 s.\n",
      "  Got page: 3; 87% done. Elapsed 12.35 s.\n",
      "  Got page: 4; 100% done. Elapsed 13.59 s.\n",
      "Got 18182 rows.\n",
      "\n",
      "Total time taken 15.12 s.\n",
      "Finished at 2018-10-25 16:12:20.\n"
     ]
    }
   ],
   "source": [
    "project = 'scarlet-labs'\n",
    "query = 'select * from `scarlet-labs.basketball.training_2018`'\n",
    "df = pd.read_gbq(query=query, project_id=project, dialect=\"standard\", verbose=False)"
   ]
  },
  {
   "cell_type": "code",
   "execution_count": 3,
   "metadata": {
    "collapsed": false
   },
   "outputs": [
    {
     "data": {
      "text/html": [
       "<div>\n",
       "<table border=\"1\" class=\"dataframe\">\n",
       "  <thead>\n",
       "    <tr style=\"text-align: right;\">\n",
       "      <th></th>\n",
       "      <th>opp</th>\n",
       "      <th>pos</th>\n",
       "      <th>bbrefID</th>\n",
       "      <th>date</th>\n",
       "      <th>player</th>\n",
       "      <th>tm</th>\n",
       "      <th>venue</th>\n",
       "      <th>dk</th>\n",
       "      <th>dk_30d</th>\n",
       "      <th>secs_played_30d</th>\n",
       "      <th>...</th>\n",
       "      <th>opp_orbpct_7d</th>\n",
       "      <th>opp_drbpct_7d</th>\n",
       "      <th>opp_astpct_7d</th>\n",
       "      <th>opp_stlpct_7d</th>\n",
       "      <th>opp_blkpct_7d</th>\n",
       "      <th>opp_tovpct_7d</th>\n",
       "      <th>opp_usgpct_7d</th>\n",
       "      <th>opp_ortg_7d</th>\n",
       "      <th>opp_drtg_7d</th>\n",
       "      <th>opp_gmsc_7d</th>\n",
       "    </tr>\n",
       "  </thead>\n",
       "  <tbody>\n",
       "    <tr>\n",
       "      <th>0</th>\n",
       "      <td>CLE</td>\n",
       "      <td>SG</td>\n",
       "      <td>bacondw01</td>\n",
       "      <td>2018-03-28</td>\n",
       "      <td>Dwayne Bacon</td>\n",
       "      <td>CHO</td>\n",
       "      <td>home</td>\n",
       "      <td>15.75</td>\n",
       "      <td>7.269231</td>\n",
       "      <td>901.076923</td>\n",
       "      <td>...</td>\n",
       "      <td>1.255556</td>\n",
       "      <td>12.844444</td>\n",
       "      <td>11.588889</td>\n",
       "      <td>0.733333</td>\n",
       "      <td>2.422222</td>\n",
       "      <td>6.933333</td>\n",
       "      <td>22.744444</td>\n",
       "      <td>86.333333</td>\n",
       "      <td>117.666667</td>\n",
       "      <td>7.777778</td>\n",
       "    </tr>\n",
       "    <tr>\n",
       "      <th>1</th>\n",
       "      <td>PHO</td>\n",
       "      <td>SG</td>\n",
       "      <td>thornsi01</td>\n",
       "      <td>2018-03-28</td>\n",
       "      <td>Sindarius Thornwell</td>\n",
       "      <td>LAC</td>\n",
       "      <td>away</td>\n",
       "      <td>14.75</td>\n",
       "      <td>10.483333</td>\n",
       "      <td>1429.333333</td>\n",
       "      <td>...</td>\n",
       "      <td>5.655556</td>\n",
       "      <td>12.355556</td>\n",
       "      <td>7.900000</td>\n",
       "      <td>1.055556</td>\n",
       "      <td>1.133333</td>\n",
       "      <td>6.537500</td>\n",
       "      <td>15.188889</td>\n",
       "      <td>97.888889</td>\n",
       "      <td>99.555556</td>\n",
       "      <td>5.266667</td>\n",
       "    </tr>\n",
       "    <tr>\n",
       "      <th>2</th>\n",
       "      <td>PHO</td>\n",
       "      <td>SG</td>\n",
       "      <td>willilo02</td>\n",
       "      <td>2018-03-28</td>\n",
       "      <td>Lou Williams</td>\n",
       "      <td>LAC</td>\n",
       "      <td>away</td>\n",
       "      <td>15.50</td>\n",
       "      <td>24.343750</td>\n",
       "      <td>2066.937500</td>\n",
       "      <td>...</td>\n",
       "      <td>5.655556</td>\n",
       "      <td>12.355556</td>\n",
       "      <td>7.900000</td>\n",
       "      <td>1.055556</td>\n",
       "      <td>1.133333</td>\n",
       "      <td>6.537500</td>\n",
       "      <td>15.188889</td>\n",
       "      <td>97.888889</td>\n",
       "      <td>99.555556</td>\n",
       "      <td>5.266667</td>\n",
       "    </tr>\n",
       "    <tr>\n",
       "      <th>3</th>\n",
       "      <td>PHO</td>\n",
       "      <td>SG</td>\n",
       "      <td>riverau01</td>\n",
       "      <td>2018-03-28</td>\n",
       "      <td>Austin Rivers</td>\n",
       "      <td>LAC</td>\n",
       "      <td>away</td>\n",
       "      <td>29.50</td>\n",
       "      <td>20.390625</td>\n",
       "      <td>2133.562500</td>\n",
       "      <td>...</td>\n",
       "      <td>5.655556</td>\n",
       "      <td>12.355556</td>\n",
       "      <td>7.900000</td>\n",
       "      <td>1.055556</td>\n",
       "      <td>1.133333</td>\n",
       "      <td>6.537500</td>\n",
       "      <td>15.188889</td>\n",
       "      <td>97.888889</td>\n",
       "      <td>99.555556</td>\n",
       "      <td>5.266667</td>\n",
       "    </tr>\n",
       "    <tr>\n",
       "      <th>4</th>\n",
       "      <td>PHO</td>\n",
       "      <td>SG</td>\n",
       "      <td>willicj01</td>\n",
       "      <td>2018-03-28</td>\n",
       "      <td>C.J. Williams</td>\n",
       "      <td>LAC</td>\n",
       "      <td>away</td>\n",
       "      <td>5.25</td>\n",
       "      <td>13.250000</td>\n",
       "      <td>1420.500000</td>\n",
       "      <td>...</td>\n",
       "      <td>5.655556</td>\n",
       "      <td>12.355556</td>\n",
       "      <td>7.900000</td>\n",
       "      <td>1.055556</td>\n",
       "      <td>1.133333</td>\n",
       "      <td>6.537500</td>\n",
       "      <td>15.188889</td>\n",
       "      <td>97.888889</td>\n",
       "      <td>99.555556</td>\n",
       "      <td>5.266667</td>\n",
       "    </tr>\n",
       "  </tbody>\n",
       "</table>\n",
       "<p>5 rows × 66 columns</p>\n",
       "</div>"
      ],
      "text/plain": [
       "   opp pos    bbrefID        date               player   tm venue     dk  \\\n",
       "0  CLE  SG  bacondw01  2018-03-28         Dwayne Bacon  CHO  home  15.75   \n",
       "1  PHO  SG  thornsi01  2018-03-28  Sindarius Thornwell  LAC  away  14.75   \n",
       "2  PHO  SG  willilo02  2018-03-28         Lou Williams  LAC  away  15.50   \n",
       "3  PHO  SG  riverau01  2018-03-28        Austin Rivers  LAC  away  29.50   \n",
       "4  PHO  SG  willicj01  2018-03-28        C.J. Williams  LAC  away   5.25   \n",
       "\n",
       "      dk_30d  secs_played_30d     ...       opp_orbpct_7d  opp_drbpct_7d  \\\n",
       "0   7.269231       901.076923     ...            1.255556      12.844444   \n",
       "1  10.483333      1429.333333     ...            5.655556      12.355556   \n",
       "2  24.343750      2066.937500     ...            5.655556      12.355556   \n",
       "3  20.390625      2133.562500     ...            5.655556      12.355556   \n",
       "4  13.250000      1420.500000     ...            5.655556      12.355556   \n",
       "\n",
       "   opp_astpct_7d  opp_stlpct_7d  opp_blkpct_7d  opp_tovpct_7d  opp_usgpct_7d  \\\n",
       "0      11.588889       0.733333       2.422222       6.933333      22.744444   \n",
       "1       7.900000       1.055556       1.133333       6.537500      15.188889   \n",
       "2       7.900000       1.055556       1.133333       6.537500      15.188889   \n",
       "3       7.900000       1.055556       1.133333       6.537500      15.188889   \n",
       "4       7.900000       1.055556       1.133333       6.537500      15.188889   \n",
       "\n",
       "   opp_ortg_7d  opp_drtg_7d  opp_gmsc_7d  \n",
       "0    86.333333   117.666667     7.777778  \n",
       "1    97.888889    99.555556     5.266667  \n",
       "2    97.888889    99.555556     5.266667  \n",
       "3    97.888889    99.555556     5.266667  \n",
       "4    97.888889    99.555556     5.266667  \n",
       "\n",
       "[5 rows x 66 columns]"
      ]
     },
     "execution_count": 3,
     "metadata": {},
     "output_type": "execute_result"
    }
   ],
   "source": [
    "df.head()"
   ]
  },
  {
   "cell_type": "markdown",
   "metadata": {},
   "source": [
    "# Model Training"
   ]
  },
  {
   "cell_type": "code",
   "execution_count": 13,
   "metadata": {
    "collapsed": false
   },
   "outputs": [],
   "source": [
    "#just select numeric for now. No transforms either.\n",
    "training = df.select_dtypes([np.number]).dropna()"
   ]
  },
  {
   "cell_type": "code",
   "execution_count": null,
   "metadata": {
    "collapsed": true
   },
   "outputs": [],
   "source": [
    "#look at correlations\n",
    "sns.heatmap(training.corr());\n",
    "plt.show()"
   ]
  },
  {
   "cell_type": "code",
   "execution_count": 36,
   "metadata": {
    "collapsed": false
   },
   "outputs": [],
   "source": [
    "#Data selection prep\n",
    "X = training.drop([\"dk\"], axis=1)\n",
    "y = training[\"dk\"]\n",
    "X_train, X_test, y_train, y_test = train_test_split(X, y, test_size=0.3, random_state=42)"
   ]
  },
  {
   "cell_type": "code",
   "execution_count": 37,
   "metadata": {
    "collapsed": true
   },
   "outputs": [],
   "source": [
    "#Basic Linear Model\n",
    "lm = LinearRegression(normalize=True)\n",
    "lm.fit(X=X_train, y=y_train)\n",
    "y_hat = lm.predict(X_test)\n",
    "feature_importances = dict(zip(X_train.columns, lm.coef_))"
   ]
  },
  {
   "cell_type": "code",
   "execution_count": 42,
   "metadata": {
    "collapsed": false
   },
   "outputs": [
    {
     "data": {
      "text/plain": [
       "{'actual': 6.90489057811041, 'training': 6.9036834873148285}"
      ]
     },
     "execution_count": 42,
     "metadata": {},
     "output_type": "execute_result"
    }
   ],
   "source": [
    "#did we overfit?\n",
    "{\"actual\":sqrt(mean_squared_error(y_pred=y_hat, y_true=y_test)), \n",
    " \"training\":sqrt(mean_squared_error(y_pred=lm.predict(X_train), y_true=y_train))}"
   ]
  },
  {
   "cell_type": "code",
   "execution_count": 39,
   "metadata": {
    "collapsed": false
   },
   "outputs": [
    {
     "data": {
      "image/png": "[encoded data removed]",
      "text/plain": [
       "<matplotlib.figure.Figure at 0x1ca3211aa58>"
      ]
     },
     "metadata": {},
     "output_type": "display_data"
    }
   ],
   "source": [
    "#Accuracy\n",
    "plt.scatter(y_hat, y_test)\n",
    "plt.show()"
   ]
  },
  {
   "cell_type": "code",
   "execution_count": null,
   "metadata": {
    "collapsed": true
   },
   "outputs": [],
   "source": []
  }
 ],
 "metadata": {
  "kernelspec": {
   "display_name": "Python 3",
   "language": "python",
   "name": "python3"
  },
  "language_info": {
   "codemirror_mode": {
    "name": "ipython",
    "version": 3
   },
   "file_extension": ".py",
   "mimetype": "text/x-python",
   "name": "python",
   "nbconvert_exporter": "python",
   "pygments_lexer": "ipython3",
   "version": "3.6.0"
  }
 },
 "nbformat": 4,
 "nbformat_minor": 2
}
